{
 "cells": [
  {
   "cell_type": "code",
   "execution_count": 3,
   "metadata": {},
   "outputs": [
    {
     "name": "stdout",
     "output_type": "stream",
     "text": [
      "[{x: b - sqrt(2)*sqrt(-2*b**2 + x5**2)/2, y: -b - sqrt(2)*sqrt(-2*b**2 + x5**2)/2}, {x: b + sqrt(2)*sqrt(-2*b**2 + x5**2)/2, y: -b + sqrt(2)*sqrt(-2*b**2 + x5**2)/2}]\n"
     ]
    }
   ],
   "source": [
    "import main\n",
    "import numpy as np\n",
    "from sympy import Abs, symbols, S, Max, Min, solve\n",
    "from sympy.abc import x, y\n",
    "\n",
    "x1,x2,x3,x4,x5,b = symbols(\"x1,x2,x3,x4,x5,b\")\n",
    "#con x1<x2<x3<x4<x5, y4>x4, y5>x5\n",
    "\n",
    "#Retta filtrante a pendenza 1 r_{(1/2,b)}\n",
    "retta = y - x + 2*b\n",
    "\n",
    "#I contour propri sono (alfa4, beta4 sono i contour ellitici)\n",
    "alfa = x**2 + y**2 - x5**2\n",
    "beta = (x-x2)**2 + (y-x2)**2 - (x5-x2)**2\n",
    "alfa4 = (x-x1)**2 + (y-x1)**2 - (x4-x1)**2\n",
    "beta4 = (x-x3)**2 + (y-x3)**2 - (x4-x3)**2\n",
    "\n",
    "print(solve([alfa, retta],x, y, dict=True))\n"
   ]
  }
 ],
 "metadata": {
  "kernelspec": {
   "display_name": "Python 3",
   "language": "python",
   "name": "python3"
  },
  "language_info": {
   "codemirror_mode": {
    "name": "ipython",
    "version": 3
   },
   "file_extension": ".py",
   "mimetype": "text/x-python",
   "name": "python",
   "nbconvert_exporter": "python",
   "pygments_lexer": "ipython3",
   "version": "3.11.6"
  },
  "orig_nbformat": 4
 },
 "nbformat": 4,
 "nbformat_minor": 2
}
